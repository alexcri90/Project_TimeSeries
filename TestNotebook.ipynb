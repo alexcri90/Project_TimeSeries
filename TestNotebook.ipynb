{
 "cells": [
  {
   "cell_type": "markdown",
   "metadata": {},
   "source": [
    "# Question 1\n",
    "Definire i concetti di stazionarietà e integrazione e fornire le condizioni per le quali un processo AR(2) è integrato di ordine 1."
   ]
  },
  {
   "cell_type": "markdown",
   "metadata": {},
   "source": [
    "# Stationarity and Integration in Time Series\n",
    "\n",
    "## Stationarity\n",
    "\n",
    "A stochastic process $\\{X_t\\}$ is said to be **weakly stationary** (or covariance stationary) if it satisfies the following conditions:\n",
    "\n",
    "1. The expected value is constant and independent of time:\n",
    "   $$E[X_t] = \\mu < \\infty, \\quad \\forall t$$\n",
    "\n",
    "2. The variance is finite and independent of time:\n",
    "   $$Var(X_t) = \\sigma^2 < \\infty, \\quad \\forall t$$\n",
    "\n",
    "3. The autocovariance function depends only on the time lag h and not on time t:\n",
    "   $$Cov(X_t, X_{t+h}) = \\gamma(h), \\quad \\forall t, h$$\n",
    "\n",
    "## Integration\n",
    "\n",
    "A time series is said to be **integrated of order d**, denoted as $I(d)$, if it needs to be differenced d times to become stationary. More formally:\n",
    "\n",
    "- If $Y_t \\sim I(d)$, then $\\Delta^d Y_t$ is stationary\n",
    "- Where $\\Delta$ is the difference operator: $\\Delta Y_t = Y_t - Y_{t-1}$\n",
    "- And $\\Delta^d$ represents applying the difference operator d times\n",
    "\n",
    "## AR(2) Process and Integration\n",
    "\n",
    "An AR(2) process is defined as:\n",
    "\n",
    "$$Y_t = \\phi_1Y_{t-1} + \\phi_2Y_{t-2} + \\varepsilon_t$$\n",
    "\n",
    "where $\\varepsilon_t$ is white noise.\n",
    "\n",
    "For an AR(2) process to be integrated of order 1, $I(1)$, it must satisfy two conditions:\n",
    "\n",
    "1. The characteristic equation $1 - \\phi_1z - \\phi_2z^2 = 0$ must have exactly one unit root $(z = 1)$\n",
    "2. The other root must lie outside the unit circle\n",
    "\n",
    "This translates to the following conditions on the parameters:\n",
    "\n",
    "1. $\\phi_1 + \\phi_2 = 1$ (ensures one unit root)\n",
    "2. $|\\phi_2| < 1$ (ensures the other root is outside the unit circle)\n",
    "\n",
    "### Example\n",
    "\n",
    "Consider the AR(2) process:\n",
    "$$Y_t = 1.5Y_{t-1} - 0.5Y_{t-2} + \\varepsilon_t$$\n",
    "\n",
    "Here, $\\phi_1 = 1.5$ and $\\phi_2 = -0.5$\n",
    "\n",
    "1. Check if $\\phi_1 + \\phi_2 = 1$:\n",
    "   $1.5 + (-0.5) = 1$ ✓\n",
    "\n",
    "2. Check if $|\\phi_2| < 1$:\n",
    "   $|-0.5| = 0.5 < 1$ ✓\n",
    "\n",
    "Therefore, this AR(2) process is integrated of order 1. This means that while $Y_t$ is non-stationary, its first difference $\\Delta Y_t$ will be stationary.\n",
    "\n",
    "The characteristic equation is:\n",
    "$$1 - 1.5z + 0.5z^2 = 0.5(z - 1)(z - 2) = 0$$\n",
    "\n",
    "As we can see, one root is $z = 1$ (the unit root) and the other is $z = 2$ (outside the unit circle), confirming our analysis."
   ]
  },
  {
   "cell_type": "markdown",
   "metadata": {
    "vscode": {
     "languageId": "plaintext"
    }
   },
   "source": [
    "## The Unit Root Concept\n",
    "\n",
    "A \"unit root\" is a characteristic of a time series process where a root of the characteristic equation equals 1 (unity). The characteristic equation is obtained by:\n",
    "\n",
    "1. Writing the AR process in lag operator form: $(1 - \\phi_1L - \\phi_2L^2)Y_t = \\varepsilon_t$\n",
    "2. Replacing L with z: $1 - \\phi_1z - \\phi_2z^2 = 0$\n",
    "\n",
    "The \"unit circle\" in the complex plane is the circle with radius 1 centered at the origin. A root lying:\n",
    "- On the unit circle $(|z| = 1)$ → Process is non-stationary\n",
    "- Outside the unit circle $(|z| > 1)$ → Process is stationary\n",
    "- Inside the unit circle $(|z| < 1)$ → Process is explosive\n",
    "\n",
    "## Visual Representation\n",
    "\n",
    "For an AR(2) process, we can visualize the roots in the complex plane:\n",
    "```\n",
    "                    Im\n",
    "                     ↑\n",
    "            Unit Circle → |z| = 1\n",
    "                     |\n",
    "          -1 ←------+-----→ 1   Re\n",
    "                     |\n",
    "                     ↓\n",
    "```\n",
    "\n",
    "## Implications for Different AR Processes\n",
    "\n",
    "### AR(1) Process\n",
    "For an AR(1) process $Y_t = \\phi Y_{t-1} + \\varepsilon_t$:\n",
    "- Characteristic equation: $1 - \\phi z = 0$\n",
    "- Single root: $z = \\frac{1}{\\phi}$\n",
    "- To be I(1): must have exactly $\\phi = 1$\n",
    "\n",
    "### AR(2) Process\n",
    "For an AR(2) process $Y_t = \\phi_1Y_{t-1} + \\phi_2Y_{t-2} + \\varepsilon_t$:\n",
    "- Characteristic equation: $1 - \\phi_1z - \\phi_2z^2 = 0$\n",
    "- Two roots: both can be real or complex conjugates\n",
    "- To be I(1): one root must be 1, other outside unit circle\n",
    "\n",
    "### AR(3) Process\n",
    "For an AR(3) process $Y_t = \\phi_1Y_{t-1} + \\phi_2Y_{t-2} + \\phi_3Y_{t-3} + \\varepsilon_t$:\n",
    "- Characteristic equation: $1 - \\phi_1z - \\phi_2z^2 - \\phi_3z^3 = 0$\n",
    "- Three roots: can be all real or one real and two complex conjugates\n",
    "- To be I(1): one root must be 1, other two outside unit circle\n",
    "- Parameter conditions: $\\phi_1 + \\phi_2 + \\phi_3 = 1$ and other stability conditions\n",
    "\n",
    "## Behavior Examples\n",
    "\n",
    "1. **All roots outside unit circle** (Stationary):\n",
    "   - Series fluctuates around mean\n",
    "   - Shocks have temporary effects\n",
    "   - Example: AR(1) with $\\phi = 0.5$\n",
    "\n",
    "2. **One unit root** (I(1)):\n",
    "   - Series wanders without fixed mean\n",
    "   - Shocks have permanent effects\n",
    "   - Example: Random Walk $Y_t = Y_{t-1} + \\varepsilon_t$\n",
    "\n",
    "3. **Root inside unit circle** (Explosive):\n",
    "   - Series diverges exponentially\n",
    "   - Shocks have amplifying effects\n",
    "   - Example: AR(1) with $\\phi = 1.2$\n",
    "\n",
    "## Implications for Time Series Analysis\n",
    "\n",
    "1. **Stationarity Testing**:\n",
    "   - Unit root tests (like ADF, KPSS) check for presence of unit roots\n",
    "   - Critical for choosing appropriate modeling strategy\n",
    "\n",
    "2. **Cointegration**:\n",
    "   - When two I(1) series share a common unit root\n",
    "   - Their linear combination might be stationary\n",
    "\n",
    "3. **Forecasting**:\n",
    "   - Unit roots affect forecast uncertainty\n",
    "   - Confidence intervals grow wider for I(1) processes\n",
    "\n",
    "4. **Model Selection**:\n",
    "   - I(1) series need differencing or ARIMA modeling\n",
    "   - Stationary series can use ARMA modeling"
   ]
  },
  {
   "cell_type": "markdown",
   "metadata": {},
   "source": [
    "# Question 2\n",
    "\n",
    "Quale processo della famiglia ARMA ha il seguente correlogramma."
   ]
  },
  {
   "cell_type": "markdown",
   "metadata": {},
   "source": [
    "# Identifying ARMA Processes from Correlograms\n",
    "\n",
    "## Theoretical Patterns in ACF and PACF\n",
    "\n",
    "The identification of ARMA processes relies on the analysis of two key functions:\n",
    "\n",
    "1. **Autocorrelation Function (ACF)** $\\rho(k)$:\n",
    "   $$\\rho(k) = \\frac{\\gamma(k)}{\\gamma(0)} = \\frac{Cov(Y_t, Y_{t-k})}{Var(Y_t)}$$\n",
    "\n",
    "2. **Partial Autocorrelation Function (PACF)** $\\alpha(k)$:\n",
    "   Measures correlation between $Y_t$ and $Y_{t-k}$ after removing the linear effects of $Y_{t-1}, ..., Y_{t-k+1}$\n",
    "\n",
    "## Identifying Patterns\n",
    "\n",
    "### 1. AR(p) Processes\n",
    "\n",
    "For an AR(p) process:\n",
    "- ACF: Tails off gradually (exponential decay or damped sinusoidal)\n",
    "- PACF: Cuts off after lag p\n",
    "- Example AR(1): $Y_t = 0.7Y_{t-1} + \\varepsilon_t$\n",
    "  * ACF: $\\rho(k) = 0.7^k$\n",
    "  * PACF: $\\alpha(1) = 0.7$, $\\alpha(k) = 0$ for $k > 1$\n",
    "\n",
    "### 2. MA(q) Processes\n",
    "\n",
    "For an MA(q) process:\n",
    "- ACF: Cuts off after lag q\n",
    "- PACF: Tails off gradually\n",
    "- Example MA(1): $Y_t = \\varepsilon_t + 0.7\\varepsilon_{t-1}$\n",
    "  * ACF: $\\rho(1) = \\frac{0.7}{1+0.7^2}$, $\\rho(k) = 0$ for $k > 1$\n",
    "  * PACF: Decays exponentially\n",
    "\n",
    "### 3. ARMA(p,q) Processes\n",
    "\n",
    "For an ARMA(p,q) process:\n",
    "- ACF: Tails off after lag q\n",
    "- PACF: Tails off after lag p\n",
    "- More complex patterns that combine AR and MA characteristics\n",
    "\n",
    "## Common Correlogram Patterns\n",
    "\n",
    "1. **White Noise**\n",
    "   - ACF: All zero except at lag 0\n",
    "   - PACF: All zero except at lag 0\n",
    "\n",
    "2. **AR(1)**\n",
    "   - ACF: Exponential decay\n",
    "   - PACF: Single spike at lag 1\n",
    "\n",
    "3. **AR(2)**\n",
    "   - ACF: Damped exponential or sinusoidal decay\n",
    "   - PACF: Two spikes, zero afterward\n",
    "\n",
    "4. **MA(1)**\n",
    "   - ACF: Single spike at lag 1\n",
    "   - PACF: Exponential decay\n",
    "\n",
    "5. **MA(2)**\n",
    "   - ACF: Two spikes, zero afterward\n",
    "   - PACF: Damped exponential decay\n",
    "\n",
    "## Identification Steps\n",
    "\n",
    "1. **Examine ACF**:\n",
    "   - If cuts off: Suggests MA component\n",
    "   - If decays: Suggests AR component\n",
    "   - Count significant lags before cutoff\n",
    "\n",
    "2. **Examine PACF**:\n",
    "   - If cuts off: Suggests AR component\n",
    "   - If decays: Suggests MA component\n",
    "   - Count significant lags before cutoff\n",
    "\n",
    "3. **Combine Information**:\n",
    "   - If both tail off: ARMA process\n",
    "   - If one cuts off: Pure AR or MA\n",
    "   - Note the lags where patterns change\n",
    "\n",
    "## Important Considerations\n",
    "\n",
    "1. **Sample Size Effects**:\n",
    "   - Larger samples give clearer patterns\n",
    "   - Use confidence bands (typically ±2/√n)\n",
    "\n",
    "2. **Stationarity**:\n",
    "   - Patterns only valid for stationary series\n",
    "   - May need differencing first\n",
    "\n",
    "3. **Seasonality**:\n",
    "   - Look for spikes at seasonal lags\n",
    "   - May need seasonal differencing\n",
    "\n",
    "4. **Model Validation**:\n",
    "   - Check residual correlograms\n",
    "   - Should resemble white noise"
   ]
  },
  {
   "cell_type": "markdown",
   "metadata": {},
   "source": [
    "# Question 3\n",
    "\n",
    "Le matrici T e Q dei due tipi di stagionalità (ogni sette giorni)."
   ]
  },
  {
   "cell_type": "markdown",
   "metadata": {},
   "source": [
    "# T and Q Matrices for Weekly Seasonality (s=7)\n",
    "\n",
    "## 1. Dummy Variables Seasonality\n",
    "\n",
    "For weekly seasonality using dummy variables, we need 6 state variables (the 7th is determined by the constraint that they sum to zero).\n",
    "\n",
    "### Transition Matrix T\n",
    "For s = 7, the transition matrix T is a 6×6 matrix:\n",
    "\n",
    "$$\n",
    "T = \\begin{bmatrix} \n",
    "-1 & -1 & -1 & -1 & -1 & -1 \\\\\n",
    "1 & 0 & 0 & 0 & 0 & 0 \\\\\n",
    "0 & 1 & 0 & 0 & 0 & 0 \\\\\n",
    "0 & 0 & 1 & 0 & 0 & 0 \\\\\n",
    "0 & 0 & 0 & 1 & 0 & 0 \\\\\n",
    "0 & 0 & 0 & 0 & 1 & 0\n",
    "\\end{bmatrix}\n",
    "$$\n",
    "\n",
    "### Disturbance Variance Matrix Q\n",
    "The Q matrix is a 6×6 matrix with only one non-zero element:\n",
    "\n",
    "$$\n",
    "Q = \\begin{bmatrix}\n",
    "\\sigma_{\\omega}^2 & 0 & 0 & 0 & 0 & 0 \\\\\n",
    "0 & 0 & 0 & 0 & 0 & 0 \\\\\n",
    "0 & 0 & 0 & 0 & 0 & 0 \\\\\n",
    "0 & 0 & 0 & 0 & 0 & 0 \\\\\n",
    "0 & 0 & 0 & 0 & 0 & 0 \\\\\n",
    "0 & 0 & 0 & 0 & 0 & 0\n",
    "\\end{bmatrix}\n",
    "$$\n",
    "\n",
    "## 2. Trigonometric Seasonality\n",
    "\n",
    "For weekly seasonality using trigonometric form, we need 3 harmonics (since ⌊7/2⌋ = 3).\n",
    "\n",
    "### Transition Matrix T\n",
    "For s = 7, the transition matrix T is a 6×6 block diagonal matrix:\n",
    "\n",
    "$$\n",
    "T = \\begin{bmatrix}\n",
    "\\begin{bmatrix}\n",
    "\\cos(\\lambda_1) & \\sin(\\lambda_1) \\\\\n",
    "-\\sin(\\lambda_1) & \\cos(\\lambda_1)\n",
    "\\end{bmatrix} & 0 & 0 \\\\\n",
    "0 & \\begin{bmatrix}\n",
    "\\cos(\\lambda_2) & \\sin(\\lambda_2) \\\\\n",
    "-\\sin(\\lambda_2) & \\cos(\\lambda_2)\n",
    "\\end{bmatrix} & 0 \\\\\n",
    "0 & 0 & \\begin{bmatrix}\n",
    "\\cos(\\lambda_3) & \\sin(\\lambda_3) \\\\\n",
    "-\\sin(\\lambda_3) & \\cos(\\lambda_3)\n",
    "\\end{bmatrix}\n",
    "\\end{bmatrix}\n",
    "$$\n",
    "\n",
    "where $\\lambda_j = \\frac{2\\pi j}{7}$ for j = 1, 2, 3\n",
    "\n",
    "### Disturbance Variance Matrix Q\n",
    "The Q matrix is a 6×6 diagonal matrix:\n",
    "\n",
    "$$\n",
    "Q = \\begin{bmatrix}\n",
    "\\sigma_{\\omega}^2 & 0 & 0 & 0 & 0 & 0 \\\\\n",
    "0 & \\sigma_{\\omega}^2 & 0 & 0 & 0 & 0 \\\\\n",
    "0 & 0 & \\sigma_{\\omega}^2 & 0 & 0 & 0 \\\\\n",
    "0 & 0 & 0 & \\sigma_{\\omega}^2 & 0 & 0 \\\\\n",
    "0 & 0 & 0 & 0 & \\sigma_{\\omega}^2 & 0 \\\\\n",
    "0 & 0 & 0 & 0 & 0 & \\sigma_{\\omega}^2\n",
    "\\end{bmatrix}\n",
    "$$\n",
    "\n",
    "## Properties and Interpretation\n",
    "\n",
    "### Dummy Variables Form:\n",
    "- First row of T matrix ensures sum-to-zero constraint\n",
    "- Subsequent rows shift the seasonal effects\n",
    "- Single variance parameter in Q controls evolution\n",
    "- State vector directly represents seasonal effects\n",
    "\n",
    "### Trigonometric Form:\n",
    "- Block diagonal structure in T represents harmonics\n",
    "- Each 2×2 block is a rotation matrix\n",
    "- Equal variances in Q for all components\n",
    "- State vector represents amplitudes of harmonics\n",
    "\n",
    "## Key Differences:\n",
    "1. **Size**: Both are 6×6 but structured differently\n",
    "2. **Evolution**: \n",
    "   - Dummy: Direct shifts with one shock\n",
    "   - Trigonometric: Smooth rotation with multiple shocks\n",
    "3. **Interpretation**:\n",
    "   - Dummy: Direct seasonal effects\n",
    "   - Trigonometric: Frequency components\n",
    "4. **Smoothness**:\n",
    "   - Dummy: Can have sharp changes\n",
    "   - Trigonometric: Naturally smoother transitions"
   ]
  },
  {
   "cell_type": "markdown",
   "metadata": {},
   "source": [
    "# Question 4:\n",
    "\n",
    "Le matrici della forma state space di un modello UCM con le seguenti componenti:\n",
    "\n",
    "- random walk,\n",
    "- ciclo stocastico,\n",
    "- regressione su xt,\n",
    "- rumore di osservazione."
   ]
  },
  {
   "cell_type": "markdown",
   "metadata": {},
   "source": [
    "# State Space Matrices for UCM Model\n",
    "\n",
    "## Model Components\n",
    "\n",
    "The model contains:\n",
    "1. Random walk (level component)\n",
    "2. Stochastic cycle\n",
    "3. Regression on $x_t$\n",
    "4. Observation noise\n",
    "\n",
    "The model can be written as:\n",
    "\n",
    "$$y_t = \\mu_t + \\psi_t + \\beta x_t + \\varepsilon_t$$\n",
    "\n",
    "where:\n",
    "- $\\mu_t$ is the random walk\n",
    "- $\\psi_t$ is the stochastic cycle\n",
    "- $\\beta x_t$ is the regression term\n",
    "- $\\varepsilon_t$ is the observation noise\n",
    "\n",
    "## State Space Representation\n",
    "\n",
    "### State Vector\n",
    "The state vector $\\alpha_t$ contains:\n",
    "- Random walk level ($\\mu_t$)\n",
    "- Cycle ($\\psi_t$) and auxiliary cycle component ($\\psi_t^*$)\n",
    "- Regression coefficient ($\\beta_t$)\n",
    "\n",
    "$$\\alpha_t = \\begin{bmatrix} \n",
    "\\mu_t \\\\\n",
    "\\psi_t \\\\\n",
    "\\psi_t^* \\\\\n",
    "\\beta_t\n",
    "\\end{bmatrix}$$\n",
    "\n",
    "### Transition Matrix T\n",
    "$$T = \\begin{bmatrix}\n",
    "1 & 0 & 0 & 0 \\\\\n",
    "0 & \\rho\\cos(\\lambda) & \\rho\\sin(\\lambda) & 0 \\\\\n",
    "0 & -\\rho\\sin(\\lambda) & \\rho\\cos(\\lambda) & 0 \\\\\n",
    "0 & 0 & 0 & 1\n",
    "\\end{bmatrix}$$\n",
    "\n",
    "where:\n",
    "- $\\rho$ is the damping factor of the cycle $(0 < \\rho < 1)$\n",
    "- $\\lambda$ is the cycle frequency $(0 < \\lambda < \\pi)$\n",
    "\n",
    "### Observation Matrix Z\n",
    "$$Z = \\begin{bmatrix} 1 & 1 & 0 & x_t \\end{bmatrix}$$\n",
    "\n",
    "Note that $x_t$ enters in the observation matrix as it multiplies $\\beta_t$\n",
    "\n",
    "### System Disturbance Matrix R\n",
    "$$R = I_4$$ \n",
    "(4×4 identity matrix)\n",
    "\n",
    "### System Disturbance Covariance Matrix Q\n",
    "$$Q = \\begin{bmatrix}\n",
    "\\sigma_\\eta^2 & 0 & 0 & 0 \\\\\n",
    "0 & \\sigma_\\kappa^2 & 0 & 0 \\\\\n",
    "0 & 0 & \\sigma_\\kappa^2 & 0 \\\\\n",
    "0 & 0 & 0 & \\sigma_\\beta^2\n",
    "\\end{bmatrix}$$\n",
    "\n",
    "where:\n",
    "- $\\sigma_\\eta^2$ is the variance of random walk innovations\n",
    "- $\\sigma_\\kappa^2$ is the variance of cycle disturbances\n",
    "- $\\sigma_\\beta^2$ is the variance of regression coefficient innovations\n",
    "\n",
    "### Observation Disturbance Variance H\n",
    "$$H = \\sigma_\\varepsilon^2$$\n",
    "\n",
    "## Properties and Interpretation\n",
    "\n",
    "1. **Random Walk Component**:\n",
    "   - Single state element ($\\mu_t$)\n",
    "   - Unit coefficient in T matrix\n",
    "   - Innovation variance $\\sigma_\\eta^2$\n",
    "\n",
    "2. **Cycle Component**:\n",
    "   - Two state elements ($\\psi_t, \\psi_t^*$)\n",
    "   - 2×2 rotation matrix in T\n",
    "   - Equal variances $\\sigma_\\kappa^2$ for both components\n",
    "\n",
    "3. **Regression Component**:\n",
    "   - Time-varying coefficient $\\beta_t$\n",
    "   - Random walk evolution\n",
    "   - Innovation variance $\\sigma_\\beta^2$\n",
    "\n",
    "4. **Complete System**:\n",
    "   - State dimension: 4\n",
    "   - $x_t$ enters via Z matrix\n",
    "   - All disturbances are uncorrelated\n",
    "\n",
    "## State Evolution Equations\n",
    "\n",
    "1. Random walk:\n",
    "   $$\\mu_t = \\mu_{t-1} + \\eta_t$$\n",
    "\n",
    "2. Stochastic cycle:\n",
    "   $$\\begin{bmatrix} \\psi_t \\\\ \\psi_t^* \\end{bmatrix} = \\rho\\begin{bmatrix} \\cos(\\lambda) & \\sin(\\lambda) \\\\ -\\sin(\\lambda) & \\cos(\\lambda) \\end{bmatrix} \\begin{bmatrix} \\psi_{t-1} \\\\ \\psi_{t-1}^* \\end{bmatrix} + \\begin{bmatrix} \\kappa_t \\\\ \\kappa_t^* \\end{bmatrix}$$\n",
    "\n",
    "3. Regression coefficient:\n",
    "   $$\\beta_t = \\beta_{t-1} + \\zeta_t$$\n",
    "\n",
    "## Observation Equation\n",
    "$$y_t = \\begin{bmatrix} 1 & 1 & 0 & x_t \\end{bmatrix} \\begin{bmatrix} \\mu_t \\\\ \\psi_t \\\\ \\psi_t^* \\\\ \\beta_t \\end{bmatrix} + \\varepsilon_t$$"
   ]
  },
  {
   "cell_type": "markdown",
   "metadata": {},
   "source": [
    "## Understanding the Stochastic Cycle\n",
    "\n",
    "## 1. Single Form vs Seasonality\n",
    "\n",
    "Unlike seasonality, the stochastic cycle comes in only one form. This is because the cycle is inherently defined using trigonometric functions (sine and cosine). The reason is fundamental:\n",
    "\n",
    "- **Seasonality** models a pattern that repeats at fixed, known intervals (like days of the week). This can be done either by directly modeling each period's effect (dummy approach) or by using trigonometric functions.\n",
    "\n",
    "- **Cycle** models a smooth, wave-like pattern where the period itself might vary over time. It can only be effectively modeled using trigonometric functions.\n",
    "\n",
    "## 2. The Role of ψ and ψ*\n",
    "\n",
    "The stochastic cycle uses two components (ψ_t and ψ*_t) to create a flexible cyclical pattern. Here's why:\n",
    "\n",
    "### Basic Cycle Evolution\n",
    "```\n",
    "[ψ_t   ]  =  ρ[cos(λ)  sin(λ) ] [ψ_{t-1}  ]  +  [κ_t  ]\n",
    "[ψ*_t  ]     [-sin(λ)  cos(λ) ] [ψ*_{t-1} ]     [κ*_t ]\n",
    "```\n",
    "\n",
    "where:\n",
    "- λ is the frequency (determines cycle length)\n",
    "- ρ is the damping factor (0 < ρ ≤ 1)\n",
    "- κ_t and κ*_t are independent disturbances\n",
    "\n",
    "### Interpretation:\n",
    "\n",
    "1. **ψ_t (Primary Component)**:\n",
    "   - This is the actual cycle component that enters the observation equation\n",
    "   - Represents the current position in the cycle\n",
    "\n",
    "2. **ψ*_t (Auxiliary Component)**:\n",
    "   - Doesn't enter the observation equation directly\n",
    "   - Helps create the circular motion of the cycle\n",
    "   - Acts like a \"memory\" of where the cycle is heading\n",
    "\n",
    "Together, they create a flexible rotating movement in a 2-dimensional space where:\n",
    "- ψ_t represents the x-coordinate\n",
    "- ψ*_t represents the y-coordinate\n",
    "\n",
    "## Why Two Components are Necessary\n",
    "\n",
    "The two components are needed because:\n",
    "\n",
    "1. **Single Dimension Limitation**:\n",
    "   - With just one component, you could only move back and forth along a line\n",
    "   - You couldn't capture the smooth, circular nature of cycles\n",
    "\n",
    "2. **Phase Information**:\n",
    "   - ψ*_t stores information about the phase of the cycle\n",
    "   - Helps determine whether the cycle is increasing or decreasing\n",
    "\n",
    "3. **Smooth Transitions**:\n",
    "   - The interaction between ψ_t and ψ*_t creates smooth transitions\n",
    "   - Prevents sudden jumps that would occur with a single component\n",
    "\n",
    "### Key Parameters:\n",
    "\n",
    "1. **Frequency (λ)**:\n",
    "   - Controls how fast the cycle completes one rotation\n",
    "   - Period = 2π/λ\n",
    "   - Fixed parameter (estimated from data)\n",
    "\n",
    "2. **Damping Factor (ρ)**:\n",
    "   - Controls how quickly the cycle dies out\n",
    "   - ρ = 1: persistent cycle\n",
    "   - ρ < 1: dying cycle\n",
    "   - Also fixed parameter\n",
    "\n",
    "3. **Disturbances (κ_t, κ*_t)**:\n",
    "   - Allow the cycle to evolve stochastically\n",
    "   - Make each cycle different from the last\n",
    "   - Usually assumed to have equal variances"
   ]
  },
  {
   "cell_type": "markdown",
   "metadata": {},
   "source": [
    "# Question 5:\n",
    "Come si costruisce la funzione di verosimiglianza di un modello Gaussiano in forma state-space?"
   ]
  },
  {
   "cell_type": "markdown",
   "metadata": {},
   "source": [
    "# Likelihood Function Construction for Gaussian State Space Models\n",
    "\n",
    "## 1. State Space Model Structure\n",
    "\n",
    "Consider a state space model in its general form:\n",
    "\n",
    "**Observation equation:**\n",
    "$$y_t = Z_t\\alpha_t + d_t + \\varepsilon_t, \\quad \\varepsilon_t \\sim N(0, H_t)$$\n",
    "\n",
    "**State equation:**\n",
    "$$\\alpha_t = T_t\\alpha_{t-1} + c_t + R_t\\eta_t, \\quad \\eta_t \\sim N(0, Q_t)$$\n",
    "\n",
    "## 2. Likelihood Function Components\n",
    "\n",
    "The log-likelihood function is built from the prediction errors (innovations):\n",
    "\n",
    "$$\\ell(\\theta) = -\\frac{1}{2}\\sum_{t=1}^n \\left[ k\\log(2\\pi) + \\log|F_t| + v_t'F_t^{-1}v_t \\right]$$\n",
    "\n",
    "where:\n",
    "- $\\theta$ is the vector of parameters to be estimated\n",
    "- $k$ is the dimension of the observation vector $y_t$\n",
    "- $v_t$ is the innovation vector\n",
    "- $F_t$ is the variance matrix of the innovations\n",
    "- $n$ is the sample size\n",
    "\n",
    "## 3. Construction Steps\n",
    "\n",
    "### Step 1: Initialize\n",
    "- Set initial state: $a_0 = E(\\alpha_0)$\n",
    "- Set initial variance: $P_0 = Var(\\alpha_0)$\n",
    "\n",
    "### Step 2: Kalman Filter Recursions\n",
    "For t = 1 to n:\n",
    "\n",
    "1. **Prediction step:**\n",
    "   $$a_{t|t-1} = T_ta_{t-1} + c_t$$\n",
    "   $$P_{t|t-1} = T_tP_{t-1}T_t' + R_tQ_tR_t'$$\n",
    "\n",
    "2. **Innovation calculations:**\n",
    "   $$v_t = y_t - Z_ta_{t|t-1} - d_t$$\n",
    "   $$F_t = Z_tP_{t|t-1}Z_t' + H_t$$\n",
    "\n",
    "3. **Update step:**\n",
    "   $$a_t = a_{t|t-1} + P_{t|t-1}Z_t'F_t^{-1}v_t$$\n",
    "   $$P_t = P_{t|t-1} - P_{t|t-1}Z_t'F_t^{-1}Z_tP_{t|t-1}$$\n",
    "\n",
    "### Step 3: Accumulate Log-Likelihood\n",
    "For each t, add to the log-likelihood:\n",
    "$$\\ell_t = -\\frac{1}{2}[k\\log(2\\pi) + \\log|F_t| + v_t'F_t^{-1}v_t]$$\n",
    "\n",
    "## 4. Practical Implementation\n",
    "\n",
    "1. **Initialization Approaches:**\n",
    "   - For stationary components: use unconditional distribution\n",
    "   - For non-stationary components: use diffuse initialization\n",
    "\n",
    "2. **Numerical Considerations:**\n",
    "   - Use log-sum to prevent numerical overflow\n",
    "   - Handle missing values by skipping their contribution\n",
    "   - Check for positive definiteness of $F_t$\n",
    "\n",
    "3. **Parameter Constraints:**\n",
    "   - Ensure variance matrices remain positive definite\n",
    "   - Maintain stationarity conditions where required\n",
    "   - Handle boundary conditions appropriately\n",
    "\n",
    "## 5. Special Cases\n",
    "\n",
    "### Diffuse Initialization\n",
    "When some states have infinite variance:\n",
    "1. Skip likelihood contribution for first d observations\n",
    "2. Use modified likelihood for subsequent observations\n",
    "\n",
    "### Missing Observations\n",
    "When $y_t$ is partially missing:\n",
    "1. Remove missing elements from observation equation\n",
    "2. Adjust dimensions of $Z_t$ and $H_t$ accordingly\n",
    "\n",
    "### Time-Invariant Systems\n",
    "When matrices are constant:\n",
    "1. Simplified storage requirements\n",
    "2. Potential for computational optimizations\n",
    "\n",
    "## 6. Maximum Likelihood Estimation\n",
    "\n",
    "The likelihood function is maximized numerically:\n",
    "\n",
    "1. **Optimization Methods:**\n",
    "   - Quasi-Newton methods (BFGS)\n",
    "   - Simplex algorithm (Nelder-Mead)\n",
    "   - Grid search for initial values\n",
    "\n",
    "2. **Parameter Transformations:**\n",
    "   - Log transform for variances\n",
    "   - Logit transform for correlations\n",
    "   - Ensure parameter constraints\n",
    "\n",
    "3. **Standard Errors:**\n",
    "   Obtained from numerical second derivatives:\n",
    "   $$Var(\\hat{\\theta}) \\approx \\left[-\\frac{\\partial^2\\ell(\\theta)}{\\partial\\theta\\partial\\theta'}\\right]^{-1}_{\\theta=\\hat{\\theta}}$$\n",
    "\n",
    "## 7. Diagnostic Checks\n",
    "\n",
    "After maximizing the likelihood:\n",
    "\n",
    "1. Check standardized innovations for:\n",
    "   - Serial correlation\n",
    "   - Normality\n",
    "   - Homoscedasticity\n",
    "\n",
    "2. Check parameter significance using:\n",
    "   - t-statistics\n",
    "   - Likelihood ratio tests"
   ]
  },
  {
   "cell_type": "markdown",
   "metadata": {},
   "source": [
    "# Question 6:\n",
    "\n",
    "Condizioni di stazionarietà di un processo ARMA. Il processo AR(2) yt = 1.5yt−1 − 0.5yt−2 + εt è stazionario?"
   ]
  },
  {
   "cell_type": "markdown",
   "metadata": {},
   "source": []
  },
  {
   "cell_type": "markdown",
   "metadata": {},
   "source": [
    "# Question 7: ---"
   ]
  },
  {
   "cell_type": "markdown",
   "metadata": {},
   "source": [
    "# Question 8:\n",
    "\n",
    "Genesi e proprietà del ciclo stocastico stazionario."
   ]
  },
  {
   "cell_type": "markdown",
   "metadata": {},
   "source": []
  },
  {
   "cell_type": "markdown",
   "metadata": {},
   "source": [
    "# Question 9:\n",
    "\n",
    "Le matrici della forma state space di un modello UCM con le seguenti componenti:\n",
    "- random walk integrato,\n",
    "- stagionalità trimestrale a dummy stocastiche,\n",
    "- rumore di osservazione."
   ]
  },
  {
   "cell_type": "markdown",
   "metadata": {},
   "source": []
  },
  {
   "cell_type": "markdown",
   "metadata": {},
   "source": [
    "# Question 10:\n",
    "\n",
    "L’inizializzazione del vettore di stato in un modello in forma state space: si considerino i casi di variabili di stato stazionarie e non stazionarie."
   ]
  },
  {
   "cell_type": "markdown",
   "metadata": {},
   "source": []
  },
  {
   "cell_type": "markdown",
   "metadata": {},
   "source": [
    "# Question 11:\n",
    "\n",
    "Condizioni di stazionarietà di un processo AR(p). Il processo Yt = 1.5Yt−1 − 0.6Yt−1 + εt, εt ∼ WN è stazionario? Perché?"
   ]
  },
  {
   "cell_type": "markdown",
   "metadata": {},
   "source": []
  },
  {
   "cell_type": "markdown",
   "metadata": {},
   "source": [
    "# Question 12:\n",
    "\n",
    "Descrivere le funzioni di autocorrelaione e autocorrelazione parziale di un processo AR(p)?"
   ]
  },
  {
   "cell_type": "markdown",
   "metadata": {},
   "source": []
  },
  {
   "cell_type": "markdown",
   "metadata": {},
   "source": [
    "# Question 13:\n",
    "\n",
    "Le matrici T , Q, a1|0, P1|0 del ciclo stocastico stazionario."
   ]
  },
  {
   "cell_type": "markdown",
   "metadata": {},
   "source": []
  },
  {
   "cell_type": "markdown",
   "metadata": {},
   "source": [
    "# Question 14:\n",
    "\n",
    "Le matrici della forma state space di un modello UCM con le seguenti componenti:\n",
    "- random walk integrato,\n",
    "- stagionalità trimestrale a dummy stocastiche,\n",
    "- rumore di osservazione."
   ]
  },
  {
   "cell_type": "markdown",
   "metadata": {},
   "source": []
  },
  {
   "cell_type": "markdown",
   "metadata": {},
   "source": [
    "# Question 15:\n",
    "\n",
    "Come modellereste un improvviso cambio di pendenza in un modello UCM?"
   ]
  },
  {
   "cell_type": "markdown",
   "metadata": {},
   "source": []
  },
  {
   "cell_type": "markdown",
   "metadata": {},
   "source": [
    "# Question 16:\n",
    "\n",
    "a) Si enunci la condizione di stazionarietà di un processo AR(p) (causale).\n",
    "\n",
    "b) Il processo Yt = 1.5Yt−1 − 0.5Yt−1 + εt, εt ∼ WN è stazionario? Perché?"
   ]
  },
  {
   "cell_type": "markdown",
   "metadata": {},
   "source": []
  },
  {
   "cell_type": "markdown",
   "metadata": {},
   "source": [
    "# Question 17:\n",
    "\n",
    "Descrivere le funzioni di autocorrelaione e autocorrelazione parziale di un processo MA(q)?"
   ]
  },
  {
   "cell_type": "markdown",
   "metadata": {},
   "source": []
  },
  {
   "cell_type": "markdown",
   "metadata": {},
   "source": [
    "# Question 18:\n",
    "\n",
    "Che cosa sono e a che cosa servono i residui ausiliari nei modelli UCM?"
   ]
  },
  {
   "cell_type": "markdown",
   "metadata": {},
   "source": []
  },
  {
   "cell_type": "markdown",
   "metadata": {},
   "source": [
    "# Question 19:\n",
    "\n",
    "Disegnare una possibile coppia di funzioni di autocorrelaione e autocorrelazione parziale per un processo MA(2)?"
   ]
  },
  {
   "cell_type": "markdown",
   "metadata": {},
   "source": []
  },
  {
   "cell_type": "markdown",
   "metadata": {},
   "source": [
    "# Question 20:\n",
    "\n",
    "Le matrici T , Q, a1|0, P1|0 per la stagionalità a sinusoidi stocastiche a con periodo base s = 7 (per esempio per dati giornalieri).\n"
   ]
  },
  {
   "cell_type": "markdown",
   "metadata": {},
   "source": []
  },
  {
   "cell_type": "markdown",
   "metadata": {},
   "source": [
    "# Question 21:\n",
    "\n",
    "Che cosa significa che un processo stocastico è integrato di ordine d?"
   ]
  },
  {
   "cell_type": "markdown",
   "metadata": {},
   "source": []
  },
  {
   "cell_type": "markdown",
   "metadata": {},
   "source": [
    "# Question 22:\n",
    "\n",
    "A che cosa servono il filtro di Kalman e lo smoother (che quantità calcolano)?"
   ]
  },
  {
   "cell_type": "markdown",
   "metadata": {},
   "source": []
  },
  {
   "cell_type": "markdown",
   "metadata": {},
   "source": [
    "# Question 23:\n",
    "Che cosa significa “Xt è un processo debolmente stazionario”? Come posso trasformare Xt in modo che diventi un processo integrato di ordine 1?"
   ]
  },
  {
   "cell_type": "markdown",
   "metadata": {},
   "source": []
  },
  {
   "cell_type": "markdown",
   "metadata": {},
   "source": [
    "# Question 24:\n",
    "Disegnare una possibile coppia di funzioni di autocorrelaione/autocorrelazione parziale per un processo MA(3)."
   ]
  },
  {
   "cell_type": "markdown",
   "metadata": {},
   "source": []
  },
  {
   "cell_type": "markdown",
   "metadata": {},
   "source": [
    "# Question 25:\n",
    "Le matrici T , Q, a1|0, P1|0 per la stagionalità a sinusoidi stocastiche con periodo base s = 365 composta solo dalle prime due armoniche."
   ]
  },
  {
   "cell_type": "markdown",
   "metadata": {},
   "source": []
  },
  {
   "cell_type": "markdown",
   "metadata": {},
   "source": [
    "# Question 26:\n",
    "Le matrici della forma state space di un modello UCM con le seguenti componenti:\n",
    "- random walk integrato,\n",
    "- stagionalità a sinusoidi stocastiche con periodo s = 7 (dati giornalieri),\n",
    "- AR(1)."
   ]
  },
  {
   "cell_type": "markdown",
   "metadata": {},
   "source": []
  },
  {
   "cell_type": "markdown",
   "metadata": {},
   "source": [
    "# Question 27:\n",
    "Come si può individuare un cambio di livello repentino nei modelli UCM?"
   ]
  },
  {
   "cell_type": "markdown",
   "metadata": {},
   "source": []
  },
  {
   "cell_type": "markdown",
   "metadata": {},
   "source": [
    "# Question 28:\n",
    "Sia Yt un processo debolmente stazionario a media EYt = µ e funzione di autocovarianza Cov(Yt, Yt−k) = γk. Si fornisca la formula del previsore lineare ottimo per prvedere Y4 per mezzo di Y1, Y2, Y3 (non quella generica, ma quella specifica per questo problema con i contenuti delle matrici esplicitati)."
   ]
  },
  {
   "cell_type": "markdown",
   "metadata": {},
   "source": []
  },
  {
   "cell_type": "markdown",
   "metadata": {},
   "source": [
    "# Question 29:\n",
    "Sia Xt un processo debolmente stazionario. Fornire una formula per ottenere il processo Yt integrato di ordine uno e che una volta differenziato diventi Xt."
   ]
  },
  {
   "cell_type": "markdown",
   "metadata": {},
   "source": []
  },
  {
   "cell_type": "markdown",
   "metadata": {},
   "source": [
    "# Question 30:\n",
    "Definire il ciclo stocastico stazionario e spiegare (magari con un disegno) le funzioni di ogni elemento della sua equzione di transizione."
   ]
  },
  {
   "cell_type": "markdown",
   "metadata": {},
   "source": []
  },
  {
   "cell_type": "markdown",
   "metadata": {},
   "source": [
    "# Question 31:\n",
    "Le matrici della forma state space di un modello UCM con le seguenti componenti:\n",
    "- local linear trend,\n",
    "- stagionalità a sinusoidi stocastiche con periodo s = 365 ma solo con le prime due armoniche,\n",
    "- AR(1)."
   ]
  },
  {
   "cell_type": "markdown",
   "metadata": {},
   "source": []
  },
  {
   "cell_type": "markdown",
   "metadata": {},
   "source": [
    "# Question 32:\n",
    "Nell’ambito dei modelli in forma state space, che cosa forniscono gli algoritmi Kalman filter, smoother e one-step-ahead predictor?"
   ]
  },
  {
   "cell_type": "markdown",
   "metadata": {},
   "source": []
  },
  {
   "cell_type": "markdown",
   "metadata": {},
   "source": [
    "# Question 33:\n",
    "Sia Yt = Yt−1 + εt, con εt ∼ i.i.d.N(0, σ2) t = 0, 1, 2, . . ., un processo random walk con Y0 = 0 e si supponga di osservare Y1, Y2. Si calcoli la proiezione lineare P[Y3|Y1, Y2].\n"
   ]
  },
  {
   "cell_type": "markdown",
   "metadata": {},
   "source": []
  },
  {
   "cell_type": "markdown",
   "metadata": {},
   "source": [
    "# Question 34:\n",
    "Il processo random walk è stazionario (motivare la risposta)?"
   ]
  },
  {
   "cell_type": "markdown",
   "metadata": {},
   "source": []
  },
  {
   "cell_type": "markdown",
   "metadata": {},
   "source": [
    "# Question 35:\n",
    "La forma state space."
   ]
  },
  {
   "cell_type": "markdown",
   "metadata": {},
   "source": []
  },
  {
   "cell_type": "markdown",
   "metadata": {},
   "source": [
    "# Question 36:\n",
    "Le matrici della forma state space di un modello UCM con le seguenti componenti:\n",
    "- local linear trend,\n",
    "- stagionalità a sinusoidi stocastiche con periodo s = 365 ma solo con le prime tre armoniche,\n",
    "- errore di osservazione."
   ]
  },
  {
   "cell_type": "markdown",
   "metadata": {},
   "source": []
  },
  {
   "cell_type": "markdown",
   "metadata": {},
   "source": [
    "# Question 37:\n",
    "Che strumento posso utilizzare per identificare cambi di livello in un modello in forma state space che include il local linear trend tra le componenti?"
   ]
  },
  {
   "cell_type": "markdown",
   "metadata": {},
   "source": []
  },
  {
   "cell_type": "markdown",
   "metadata": {},
   "source": [
    "# Question 38:\n",
    "Let Y = −1 + X + X2 + X3, with X ∼ N(0, 1). Compute the optimal linear prediction P[Y |X, X2]."
   ]
  },
  {
   "cell_type": "markdown",
   "metadata": {},
   "source": []
  },
  {
   "cell_type": "markdown",
   "metadata": {},
   "source": [
    "# Question 39:\n",
    "Let Xt = 0.9Xt−1 + εt, with εt white noise, be an AR(1) process. Is it stationary? In the case of a positive answer, what are its mean and variance? What kind of ARIMA process is Yt = Yt−1 + Xt?"
   ]
  },
  {
   "cell_type": "markdown",
   "metadata": {},
   "source": []
  },
  {
   "cell_type": "markdown",
   "metadata": {},
   "source": [
    "# Question 40:\n",
    "Seasonal components in UCM."
   ]
  },
  {
   "cell_type": "markdown",
   "metadata": {},
   "source": []
  },
  {
   "cell_type": "markdown",
   "metadata": {},
   "source": [
    "# Question 41:\n",
    " Write in state space form the time-varying regression model yt = µt + βtxt + εt, where εt is a white noise and µt and βt are both random walks."
   ]
  },
  {
   "cell_type": "markdown",
   "metadata": {},
   "source": []
  },
  {
   "cell_type": "markdown",
   "metadata": {},
   "source": [
    "# Question 42:\n",
    "How would you identify additive outliers in a time series modeled with UCM?"
   ]
  },
  {
   "cell_type": "markdown",
   "metadata": {},
   "source": []
  }
 ],
 "metadata": {
  "kernelspec": {
   "display_name": ".venv",
   "language": "python",
   "name": "python3"
  },
  "language_info": {
   "codemirror_mode": {
    "name": "ipython",
    "version": 3
   },
   "file_extension": ".py",
   "mimetype": "text/x-python",
   "name": "python",
   "nbconvert_exporter": "python",
   "pygments_lexer": "ipython3",
   "version": "3.12.1"
  }
 },
 "nbformat": 4,
 "nbformat_minor": 2
}
